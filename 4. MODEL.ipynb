{
 "cells": [
  {
   "cell_type": "markdown",
   "id": "caf94433",
   "metadata": {},
   "source": [
    "# Project Name :- INX Future Inc. Employee Performance Analysis.\n",
    "# Project Code :- 10281\n",
    "# --------------------------------------------------------------------------------------------------------------"
   ]
  },
  {
   "cell_type": "markdown",
   "id": "27d45993",
   "metadata": {},
   "source": [
    "## MODEL CREATION AND EVALUATION =>> Model creation and evaluation are essential steps in the data science workflow :-\n",
    "\n",
    "### 1). Model Creation =>> Develop predictive or analytical models using algorithms and training data, selecting features, and hypertuning parameters to achieve desired outcomes in machine learning or statistical analysis.\n",
    "### 2). Evaluation =>> Assess model performance through metrics like accuracy score, precision, recall, F1-score, and more. Employ techniques such as cross-validation to ensure robustness and generalizability. Iterate and improve models as needed."
   ]
  },
  {
   "cell_type": "markdown",
   "id": "5e7e3874",
   "metadata": {},
   "source": [
    "## IMPORT ALL IMPORTANT LIBRARIES :-"
   ]
  },
  {
   "cell_type": "code",
   "execution_count": 1,
   "id": "c6f948d1",
   "metadata": {},
   "outputs": [],
   "source": [
    "import numpy as np\n",
    "import pandas as pd\n",
    "import matplotlib.pyplot as plt\n",
    "%matplotlib inline\n",
    "import seaborn as sns\n",
    "import warnings\n",
    "warnings.filterwarnings(\"ignore\")\n",
    "from sklearn.metrics import accuracy_score, confusion_matrix, classification_report\n",
    "from sklearn.model_selection import train_test_split, GridSearchCV , cross_val_score\n",
    "from sklearn.linear_model import LogisticRegression\n",
    "from sklearn.tree import DecisionTreeClassifier\n",
    "from sklearn.svm import SVC\n",
    "from sklearn import svm\n",
    "from sklearn.ensemble import RandomForestClassifier\n",
    "from sklearn.metrics import r2_score, mean_squared_error"
   ]
  },
  {
   "cell_type": "markdown",
   "id": "8b8991cb",
   "metadata": {},
   "source": [
    "## READING THE DATASET :-"
   ]
  },
  {
   "cell_type": "code",
   "execution_count": 2,
   "id": "bef8db6a",
   "metadata": {},
   "outputs": [],
   "source": [
    "data=pd.read_excel('Final_data.xlsx')"
   ]
  },
  {
   "cell_type": "code",
   "execution_count": 3,
   "id": "3fe391b3",
   "metadata": {},
   "outputs": [
    {
     "data": {
      "text/html": [
       "<div>\n",
       "<style scoped>\n",
       "    .dataframe tbody tr th:only-of-type {\n",
       "        vertical-align: middle;\n",
       "    }\n",
       "\n",
       "    .dataframe tbody tr th {\n",
       "        vertical-align: top;\n",
       "    }\n",
       "\n",
       "    .dataframe thead th {\n",
       "        text-align: right;\n",
       "    }\n",
       "</style>\n",
       "<table border=\"1\" class=\"dataframe\">\n",
       "  <thead>\n",
       "    <tr style=\"text-align: right;\">\n",
       "      <th></th>\n",
       "      <th>Unnamed: 0</th>\n",
       "      <th>EmpNumber</th>\n",
       "      <th>Age</th>\n",
       "      <th>Gender</th>\n",
       "      <th>EducationBackground</th>\n",
       "      <th>MaritalStatus</th>\n",
       "      <th>EmpDepartment</th>\n",
       "      <th>EmpJobRole</th>\n",
       "      <th>BusinessTravelFrequency</th>\n",
       "      <th>DistanceFromHome</th>\n",
       "      <th>...</th>\n",
       "      <th>EmpRelationshipSatisfaction</th>\n",
       "      <th>TotalWorkExperienceInYears</th>\n",
       "      <th>TrainingTimesLastYear</th>\n",
       "      <th>EmpWorkLifeBalance</th>\n",
       "      <th>ExperienceYearsAtThisCompany</th>\n",
       "      <th>ExperienceYearsInCurrentRole</th>\n",
       "      <th>YearsSinceLastPromotion</th>\n",
       "      <th>YearsWithCurrManager</th>\n",
       "      <th>Attrition</th>\n",
       "      <th>PerformanceRating</th>\n",
       "    </tr>\n",
       "  </thead>\n",
       "  <tbody>\n",
       "    <tr>\n",
       "      <th>0</th>\n",
       "      <td>0</td>\n",
       "      <td>0</td>\n",
       "      <td>14</td>\n",
       "      <td>1</td>\n",
       "      <td>2</td>\n",
       "      <td>2</td>\n",
       "      <td>5</td>\n",
       "      <td>13</td>\n",
       "      <td>2</td>\n",
       "      <td>10</td>\n",
       "      <td>...</td>\n",
       "      <td>4</td>\n",
       "      <td>10</td>\n",
       "      <td>2</td>\n",
       "      <td>2</td>\n",
       "      <td>10</td>\n",
       "      <td>7</td>\n",
       "      <td>0</td>\n",
       "      <td>8</td>\n",
       "      <td>0</td>\n",
       "      <td>3</td>\n",
       "    </tr>\n",
       "    <tr>\n",
       "      <th>1</th>\n",
       "      <td>1</td>\n",
       "      <td>1</td>\n",
       "      <td>29</td>\n",
       "      <td>1</td>\n",
       "      <td>2</td>\n",
       "      <td>2</td>\n",
       "      <td>5</td>\n",
       "      <td>13</td>\n",
       "      <td>2</td>\n",
       "      <td>14</td>\n",
       "      <td>...</td>\n",
       "      <td>4</td>\n",
       "      <td>20</td>\n",
       "      <td>2</td>\n",
       "      <td>3</td>\n",
       "      <td>7</td>\n",
       "      <td>7</td>\n",
       "      <td>1</td>\n",
       "      <td>7</td>\n",
       "      <td>0</td>\n",
       "      <td>3</td>\n",
       "    </tr>\n",
       "    <tr>\n",
       "      <th>2</th>\n",
       "      <td>2</td>\n",
       "      <td>2</td>\n",
       "      <td>22</td>\n",
       "      <td>1</td>\n",
       "      <td>1</td>\n",
       "      <td>1</td>\n",
       "      <td>5</td>\n",
       "      <td>13</td>\n",
       "      <td>1</td>\n",
       "      <td>5</td>\n",
       "      <td>...</td>\n",
       "      <td>3</td>\n",
       "      <td>20</td>\n",
       "      <td>2</td>\n",
       "      <td>3</td>\n",
       "      <td>18</td>\n",
       "      <td>13</td>\n",
       "      <td>1</td>\n",
       "      <td>12</td>\n",
       "      <td>0</td>\n",
       "      <td>4</td>\n",
       "    </tr>\n",
       "    <tr>\n",
       "      <th>3</th>\n",
       "      <td>3</td>\n",
       "      <td>3</td>\n",
       "      <td>23</td>\n",
       "      <td>1</td>\n",
       "      <td>0</td>\n",
       "      <td>0</td>\n",
       "      <td>3</td>\n",
       "      <td>8</td>\n",
       "      <td>2</td>\n",
       "      <td>10</td>\n",
       "      <td>...</td>\n",
       "      <td>2</td>\n",
       "      <td>23</td>\n",
       "      <td>2</td>\n",
       "      <td>2</td>\n",
       "      <td>21</td>\n",
       "      <td>6</td>\n",
       "      <td>12</td>\n",
       "      <td>6</td>\n",
       "      <td>0</td>\n",
       "      <td>3</td>\n",
       "    </tr>\n",
       "    <tr>\n",
       "      <th>4</th>\n",
       "      <td>4</td>\n",
       "      <td>4</td>\n",
       "      <td>42</td>\n",
       "      <td>1</td>\n",
       "      <td>2</td>\n",
       "      <td>2</td>\n",
       "      <td>5</td>\n",
       "      <td>13</td>\n",
       "      <td>2</td>\n",
       "      <td>16</td>\n",
       "      <td>...</td>\n",
       "      <td>4</td>\n",
       "      <td>10</td>\n",
       "      <td>1</td>\n",
       "      <td>3</td>\n",
       "      <td>2</td>\n",
       "      <td>2</td>\n",
       "      <td>2</td>\n",
       "      <td>2</td>\n",
       "      <td>0</td>\n",
       "      <td>3</td>\n",
       "    </tr>\n",
       "  </tbody>\n",
       "</table>\n",
       "<p>5 rows × 29 columns</p>\n",
       "</div>"
      ],
      "text/plain": [
       "   Unnamed: 0  EmpNumber  Age  Gender  EducationBackground  MaritalStatus  \\\n",
       "0           0          0   14       1                    2              2   \n",
       "1           1          1   29       1                    2              2   \n",
       "2           2          2   22       1                    1              1   \n",
       "3           3          3   23       1                    0              0   \n",
       "4           4          4   42       1                    2              2   \n",
       "\n",
       "   EmpDepartment  EmpJobRole  BusinessTravelFrequency  DistanceFromHome  ...  \\\n",
       "0              5          13                        2                10  ...   \n",
       "1              5          13                        2                14  ...   \n",
       "2              5          13                        1                 5  ...   \n",
       "3              3           8                        2                10  ...   \n",
       "4              5          13                        2                16  ...   \n",
       "\n",
       "   EmpRelationshipSatisfaction  TotalWorkExperienceInYears  \\\n",
       "0                            4                          10   \n",
       "1                            4                          20   \n",
       "2                            3                          20   \n",
       "3                            2                          23   \n",
       "4                            4                          10   \n",
       "\n",
       "   TrainingTimesLastYear  EmpWorkLifeBalance  ExperienceYearsAtThisCompany  \\\n",
       "0                      2                   2                            10   \n",
       "1                      2                   3                             7   \n",
       "2                      2                   3                            18   \n",
       "3                      2                   2                            21   \n",
       "4                      1                   3                             2   \n",
       "\n",
       "   ExperienceYearsInCurrentRole  YearsSinceLastPromotion  \\\n",
       "0                             7                        0   \n",
       "1                             7                        1   \n",
       "2                            13                        1   \n",
       "3                             6                       12   \n",
       "4                             2                        2   \n",
       "\n",
       "   YearsWithCurrManager  Attrition  PerformanceRating  \n",
       "0                     8          0                  3  \n",
       "1                     7          0                  3  \n",
       "2                    12          0                  4  \n",
       "3                     6          0                  3  \n",
       "4                     2          0                  3  \n",
       "\n",
       "[5 rows x 29 columns]"
      ]
     },
     "execution_count": 3,
     "metadata": {},
     "output_type": "execute_result"
    }
   ],
   "source": [
    "data.head()"
   ]
  },
  {
   "cell_type": "markdown",
   "id": "919eee3b",
   "metadata": {},
   "source": [
    "### Here we use processed dataset "
   ]
  },
  {
   "cell_type": "markdown",
   "id": "3b6bab49",
   "metadata": {},
   "source": [
    "## SPLITTING DATA INTO INDEPENDENT VARIABLES(X) & DEPENDENT VARIABLE(Y) :-"
   ]
  },
  {
   "cell_type": "code",
   "execution_count": 4,
   "id": "01161a92",
   "metadata": {},
   "outputs": [],
   "source": [
    "x=data.iloc[:,:-1]\n",
    "y = data.PerformanceRating"
   ]
  },
  {
   "cell_type": "markdown",
   "id": "af0fc9b1",
   "metadata": {},
   "source": [
    "### Here we use to split the data into x and y for model creations."
   ]
  },
  {
   "cell_type": "code",
   "execution_count": 5,
   "id": "5dedf1aa",
   "metadata": {},
   "outputs": [
    {
     "data": {
      "text/plain": [
       "(1200, 28)"
      ]
     },
     "execution_count": 5,
     "metadata": {},
     "output_type": "execute_result"
    }
   ],
   "source": [
    "x.shape"
   ]
  },
  {
   "cell_type": "markdown",
   "id": "6d243e5d",
   "metadata": {},
   "source": [
    "### Rows has 1200 datas and Columns are 27 "
   ]
  },
  {
   "cell_type": "code",
   "execution_count": 6,
   "id": "456ca3f9",
   "metadata": {},
   "outputs": [
    {
     "data": {
      "text/plain": [
       "(1200,)"
      ]
     },
     "execution_count": 6,
     "metadata": {},
     "output_type": "execute_result"
    }
   ],
   "source": [
    "y.shape"
   ]
  },
  {
   "cell_type": "markdown",
   "id": "4b263170",
   "metadata": {},
   "source": [
    "### Rows has 1200 data but it has only one columns that is Performance Rating."
   ]
  },
  {
   "cell_type": "markdown",
   "id": "15c5e20d",
   "metadata": {},
   "source": [
    "## APPLY TRAIN_TEST_SPLIT FROM SKLEARN :-"
   ]
  },
  {
   "cell_type": "markdown",
   "id": "55bab941",
   "metadata": {},
   "source": [
    "### In scikit-learn (sklearn), the \"train_test_split\" function is a commonly used utility for splitting a dataset into two subsets :-\n",
    "####  1) A Training Set. \n",
    "####  2) A Testing Set. \n",
    "#### This is essential for evaluating the performance of machine learning models. The function randomly shuffles the data and splits it into specified proportions for training and testing."
   ]
  },
  {
   "cell_type": "markdown",
   "id": "991c041b",
   "metadata": {},
   "source": [
    "#### \"x\" : Your feature matrix, which contains the input data for your machine learning model.\n",
    "#### \"y\" : Your target vector, which contains the corresponding labels or output values.\n",
    "#### \"test_size\" : This parameter specifies the proportion of the data that should be allocated for the testing set. It's typically a float between 0 and 1, where 0.2 means 20% of the data is used for testing.\n",
    "#### \"random_state\" : This is an optional parameter that allows you to set a seed for the random number generator. Setting a seed ensures that you get the same random split every time you run your code. This is useful for reproducibility.\n",
    "### The DataFrame 'x' contains the input features without the 'Performance Rating' column.The Series 'y' contains the target variable 'Performance Rating'.This split is typically done in machine learning tasks where you need to separate the input features from the target variable. The input features (x) are used to train the model, while the target variable (y) is used as the expected output or label for the corresponding input data points."
   ]
  },
  {
   "cell_type": "code",
   "execution_count": 7,
   "id": "fa978065",
   "metadata": {},
   "outputs": [],
   "source": [
    "x_train,x_test,y_train,y_test = train_test_split(x,y,test_size=0.30,random_state=42)"
   ]
  },
  {
   "cell_type": "markdown",
   "id": "5fea690b",
   "metadata": {},
   "source": [
    "### The 'test_size' parameter is set to 0.30, which means that 30% of the data will be allocated to the testing set, while the remaining 70% will be used for training. The 'random_state' parameter is set to 42, which ensures reproducibility of the train-test split, meaning the same split will be obtained if the code is run again with the same random state value.\n",
    "### After executing the code,we will have four separate variables: x_train, x_test, y_train, and y_test, representing the training and testing sets of the input features and target variable, respectively. These sets can be used for model training and evaluation purposes."
   ]
  },
  {
   "cell_type": "code",
   "execution_count": 8,
   "id": "49aa8cd9",
   "metadata": {},
   "outputs": [
    {
     "data": {
      "text/plain": [
       "(840, 28)"
      ]
     },
     "execution_count": 8,
     "metadata": {},
     "output_type": "execute_result"
    }
   ],
   "source": [
    "x_train.shape"
   ]
  },
  {
   "cell_type": "markdown",
   "id": "6423ab11",
   "metadata": {},
   "source": [
    "#### x_train: The training data for your features."
   ]
  },
  {
   "cell_type": "code",
   "execution_count": 9,
   "id": "fa74dbd2",
   "metadata": {},
   "outputs": [
    {
     "data": {
      "text/plain": [
       "(840,)"
      ]
     },
     "execution_count": 9,
     "metadata": {},
     "output_type": "execute_result"
    }
   ],
   "source": [
    "y_train.shape"
   ]
  },
  {
   "cell_type": "markdown",
   "id": "ca4693cf",
   "metadata": {},
   "source": [
    "#### y_train: The training data for your target."
   ]
  },
  {
   "cell_type": "code",
   "execution_count": 10,
   "id": "8ac5dc81",
   "metadata": {},
   "outputs": [
    {
     "data": {
      "text/plain": [
       "(360, 28)"
      ]
     },
     "execution_count": 10,
     "metadata": {},
     "output_type": "execute_result"
    }
   ],
   "source": [
    "x_test.shape"
   ]
  },
  {
   "cell_type": "markdown",
   "id": "277310f2",
   "metadata": {},
   "source": [
    "#### x_test: The testing data for your features."
   ]
  },
  {
   "cell_type": "code",
   "execution_count": 11,
   "id": "0e950754",
   "metadata": {},
   "outputs": [
    {
     "data": {
      "text/plain": [
       "(360,)"
      ]
     },
     "execution_count": 11,
     "metadata": {},
     "output_type": "execute_result"
    }
   ],
   "source": [
    "y_test.shape"
   ]
  },
  {
   "cell_type": "markdown",
   "id": "4276405f",
   "metadata": {},
   "source": [
    "#### y_test: The testing data for your target."
   ]
  },
  {
   "cell_type": "markdown",
   "id": "78651d4e",
   "metadata": {},
   "source": [
    "# MODEL CREATIONS & EVALUATIONS :-"
   ]
  },
  {
   "cell_type": "markdown",
   "id": "6feef9d1",
   "metadata": {},
   "source": [
    "## 1). RANDOM FORESRT CLASSIFIER WITH HYPER PARAMETER TUNING :-"
   ]
  },
  {
   "cell_type": "markdown",
   "id": "bb986b1c",
   "metadata": {},
   "source": [
    "### Random Forest Classifier is a popular ensemble learning algorithm that can be further improved through hyperparameter tuning to optimize its performance.\n",
    "### Hyperparameter tuning involves finding the best combination of hyperparameters to achieve the highest accuracy or other performance metrics for your specific dataset. You can use techniques like grid search CV to find the optimal hyperparameter."
   ]
  },
  {
   "cell_type": "code",
   "execution_count": 12,
   "id": "774a1a2f",
   "metadata": {},
   "outputs": [],
   "source": [
    "param_grid={'n_estimators':range(1,100,10),'criterion':['gini','entropy'],'max_features':['auto','sqrt','log2',None]}"
   ]
  },
  {
   "cell_type": "markdown",
   "id": "001060a9",
   "metadata": {},
   "source": [
    "### 'GridSearchCV' class from the sklearn.model_selection module allows us to perform grid search cross-validation, which involves systematically evaluating a optimal combination of hyperparameter values to find the best performing model.\n",
    "### The code also defines a 'param_grid' dictionary, which specifies the hyperparameters and the corresponding values to be explored during the grid search. In this case, the hyperparameters specified are:-\n",
    "### 'n_estimators': The number of trees in the random forest model, ranging from 1 to 49.\n",
    "### 'criterion': The criterion used for splitting, either \"gini\" or \"entropy\".\n",
    "### 'max_features': The maximum number of features to consider when splitting a node, including \"auto\", \"sqrt\", \"log2\", and None.\n",
    "### These hyperparameter values will be explored exhaustively during the grid search to find the best combination that yields the highest model performance."
   ]
  },
  {
   "cell_type": "code",
   "execution_count": 13,
   "id": "fdc5cc0c",
   "metadata": {},
   "outputs": [
    {
     "name": "stdout",
     "output_type": "stream",
     "text": [
      "----------------------------------------\n",
      "{'criterion': 'entropy', 'max_features': None, 'n_estimators': 61}\n",
      "----------------------------------------\n",
      "0.9464285714285715\n"
     ]
    }
   ],
   "source": [
    "tuning = GridSearchCV(estimator=RandomForestClassifier(),param_grid=param_grid,cv=None,scoring=None,n_jobs=None)\n",
    "tuning.fit(x_train,y_train)\n",
    "print(\"-\"*40)\n",
    "print(tuning.best_params_)\n",
    "print(\"-\"*40)\n",
    "print(tuning.best_score_)"
   ]
  },
  {
   "cell_type": "markdown",
   "id": "08c0c489",
   "metadata": {},
   "source": [
    "### 'tuning' is the variable that represents an instance of the GridSearchCV class. It is initialized with the following parameters:\n",
    "### 'estimator=RandomForestClassifier()': Specifies the machine learning model to be tuned, in this case, a RandomForestClassifier instance.\n",
    "### 'param_grid=param_grid': Specifies the dictionary containing the hyperparameters and their corresponding values to be searched.\n",
    "### 'cv=None': Sets the number of cross-validation folds to default.\n",
    "### 'n_jobs=None': By Default, Utilizes all available CPU cores for parallel processing during the grid search, speeding up the computation.\n",
    "### 'scoring=None: By Default, Specifies the scoring metric to evaluate the models. \n",
    "### 'tuning.fit(x_train, y_train)' performs the grid search using the training data (x_train and y_train). It explores different combinations of hyperparameters defined in 'param_grid' and evaluates the model's performance based on the specified scoring metric.\n",
    "### 'tuning.best_params_' retrieves the best combination of hyperparameters found during the grid search.\n",
    "### 'tuning.best_score_' returns the best score achieved by the model with the optimal hyperparameters.\n",
    "### When executed, this code will run the grid search on the training data, evaluate different combinations of hyperparameters, and identify the best parameter values that result in the highest score. The best parameters and corresponding best score will be printed as output."
   ]
  },
  {
   "cell_type": "code",
   "execution_count": 14,
   "id": "64b8e00a",
   "metadata": {},
   "outputs": [],
   "source": [
    "classifier=RandomForestClassifier(n_estimators=100,criterion='gini',random_state=42,max_features='sqrt')"
   ]
  },
  {
   "cell_type": "markdown",
   "id": "7890aad2",
   "metadata": {},
   "source": [
    "### classifier is the variable that represents an instance of the RandomForestClassifier class.\n",
    "### The instance of the RandomForestClassifier class is initialized with the following hyperparameter values:-\n",
    "### 'n_estimators=100': Specifies the number of trees in the random forest. In this case, the random forest will have 100 trees.\n",
    "### 'criterion='gini': Sets the criterion used for splitting decision trees to the Gini impurity measure. The Gini impurity is used to evaluate the quality of a split in a decision tree.\n",
    "### 'random_state=42': Sets the random state to 10, ensuring reproducibility of the model. With the same random state, running the model multiple times will produce the same results.\n",
    "### 'max_features=sqrt': Specifies the maximum number of features to consider when splitting a node in each decision tree. Here, the square root of the total number of features will be considered.\n",
    "### By setting these hyperparameters, the RandomForestClassifier instance is configured to use 85 trees, the Gini impurity measure for splitting, a fixed random state of 10, and the square root of the features for splitting.\n",
    "### We can now proceed to train the classifier instance on the training data and use it to make predictions on unseen data."
   ]
  },
  {
   "cell_type": "code",
   "execution_count": 15,
   "id": "0bf479e6",
   "metadata": {},
   "outputs": [],
   "source": [
    "model=classifier.fit(x_train,y_train)\n",
    "y_pred= model.predict(x_test)"
   ]
  },
  {
   "cell_type": "markdown",
   "id": "2ae2729c",
   "metadata": {},
   "source": [
    "### We can use the y_pred variable to evaluate the performance of the model or compare it against the true target values (x_test) to assess the accuracy of the predictions."
   ]
  },
  {
   "cell_type": "code",
   "execution_count": 16,
   "id": "c32b553b",
   "metadata": {},
   "outputs": [
    {
     "name": "stdout",
     "output_type": "stream",
     "text": [
      "[0.95238095 0.95238095 0.95238095 0.96428571 0.94047619 0.91666667\n",
      " 0.95238095 0.94047619 0.9047619  0.95238095]\n"
     ]
    }
   ],
   "source": [
    "score=cross_val_score(model,x_train,y_train,cv=10)\n",
    "print(score)"
   ]
  },
  {
   "cell_type": "markdown",
   "id": "cc7c8b24",
   "metadata": {},
   "source": [
    "### The 'cross_val_score' function splits the training data into 'cv' number of folds, trains the model on 'cv=10' folds, and evaluates the performance on the remaining fold. This process is repeated 'cv' times, each time using a different fold as the validation set. The resulting scores are then stored in the 'score' variable.\n",
    "### Printing the score will show the array of cross-validation scores, which provides an estimate of the model's performance on unseen data.\n",
    "### It is used to perform cross-validation, which is a technique for evaluating the model's performance by splitting the data into multiple subsets (folds) and training/evaluating the model on different combinations of these subsets.\n",
    "### 'cv=10': This parameter specifies the number of folds in the cross-validation process. In this case, cv=10 means that the data will be divided into 10 folds, and the model will be trained and evaluated 10 times, each time using a different fold as the test set and the rest as the training set.\n",
    "### After executing the code, the scores variable will contain an array of evaluation scores, with one score for each fold. These scores represent the model's performance on each fold during cross-validation.\n",
    "### Cross-validation helps provide a more reliable estimate of the model's performance and generalization ability on unseen data."
   ]
  },
  {
   "cell_type": "code",
   "execution_count": 17,
   "id": "ca279ca6",
   "metadata": {},
   "outputs": [
    {
     "name": "stdout",
     "output_type": "stream",
     "text": [
      "Max Accuracy : 96.43 %\n",
      "----------------------------------------\n",
      "Avg Accuracy : 94.29 %\n",
      "----------------------------------------\n",
      "Avg Deviaton : 1.75 %\n"
     ]
    }
   ],
   "source": [
    "print('Max Accuracy :',round(max(score)*100,2),'%')\n",
    "print(\"-\"*40)\n",
    "print('Avg Accuracy :',round(score.mean()*100,2),'%')\n",
    "print(\"-\"*40)\n",
    "print('Avg Deviaton :',round(score.std()*100,2),'%')\n"
   ]
  },
  {
   "cell_type": "markdown",
   "id": "00ac0f66",
   "metadata": {},
   "source": [
    "### Accuracy score is a common evaluation metric in machine learning, measuring the ratio of correct predictions to the total predictions made by a model. It helps assess a model's overall performance but may not be suitable for imbalanced datasets.\n",
    "### Executing this code will print the maximum accuracy, average accuracy, and average deviation of the cross-validation scores. These metrics provide insights into the performance and consistency of the trained model."
   ]
  },
  {
   "cell_type": "code",
   "execution_count": 18,
   "id": "97777c66",
   "metadata": {},
   "outputs": [
    {
     "name": "stdout",
     "output_type": "stream",
     "text": [
      "[[ 42   7   0]\n",
      " [  3 262   3]\n",
      " [  0  14  29]]\n",
      "----------------------------------------\n",
      "              precision    recall  f1-score   support\n",
      "\n",
      "           2       0.93      0.86      0.89        49\n",
      "           3       0.93      0.98      0.95       268\n",
      "           4       0.91      0.67      0.77        43\n",
      "\n",
      "    accuracy                           0.93       360\n",
      "   macro avg       0.92      0.84      0.87       360\n",
      "weighted avg       0.92      0.93      0.92       360\n",
      "\n"
     ]
    }
   ],
   "source": [
    "print(confusion_matrix (y_test,y_pred))\n",
    "print(\"-\"*40)\n",
    "print(classification_report(y_test,y_pred))"
   ]
  },
  {
   "cell_type": "markdown",
   "id": "94467c88",
   "metadata": {},
   "source": [
    "### Executing this code will display the confusion matrix and classification report, which provide insights into the performance of the trained model, including accuracy and other evaluation metrics such as precision, recall, and F1-score.\n",
    "### A Confusion matrix in machine learning is a table that summarizes the performance of a classification model. It shows the counts of true positive, true negative, false positive, and false negative predictions, aiding in model evaluation and error analysis.\n",
    "### Precision in a confusion matrix is the ratio of true positive predictions to the total positive predictions. It measures the model's accuracy when it predicts positive outcomes.\n",
    "### Recall, a metric in a confusion matrix, measures the proportion of actual positive cases correctly identified by a model. It helps assess a model's ability to find all relevant instances.\n",
    "### F1_score is a single metric derived from a confusion matrix, balancing precision and recall. It provides a measure of a model's accuracy by considering both false positives and false negatives."
   ]
  },
  {
   "cell_type": "code",
   "execution_count": 19,
   "id": "5465f109",
   "metadata": {},
   "outputs": [
    {
     "name": "stdout",
     "output_type": "stream",
     "text": [
      "MSE =  0.075\n",
      "----------------------------------------\n",
      "RMSE =  0.27386127875258304\n"
     ]
    }
   ],
   "source": [
    "mse_rf=mean_squared_error(y_test,y_pred)\n",
    "rmse_rf=np.sqrt(mse_rf)\n",
    "print('MSE = ',mse_rf)\n",
    "print(\"-\"*40)\n",
    "print('RMSE = ',rmse_rf)"
   ]
  },
  {
   "cell_type": "markdown",
   "id": "6ffa4907",
   "metadata": {},
   "source": [
    "### Mean Square Error (MSE) is a common regression metric in machine learning. It measures the average squared difference between predicted and actual values, indicating the model's prediction accuracy.\n",
    "### The lower the MSE, the better the model's predictions align with the actual target values, indicating better performance.\n",
    "### Executing this code will display the calculated MSE and RMSE, which are common metrics used to evaluate the performance of regression models. Lower values of MSE and RMSE indicate better model performance, with RMSE providing a more interpretable metric as it is in the same units as the target variable.\n",
    "### Root Mean Square Error (RMSE) is a regression metric in machine learning that measures the square root of the average squared differences between predicted and actual values, offering a more interpretable error metric."
   ]
  },
  {
   "cell_type": "markdown",
   "id": "7d2d5525",
   "metadata": {},
   "source": [
    "## 2). LOGISTIC REGRESSION WITH HYPERPARAMETER TUNING :-"
   ]
  },
  {
   "cell_type": "markdown",
   "id": "6740cd33",
   "metadata": {},
   "source": [
    "### Logistic Regression with hyperparameter tuning optimizes model performance by adjusting parameters like regularization strength or solver algorithm using techniques like grid search or randomized search for better predictive accuracy."
   ]
  },
  {
   "cell_type": "code",
   "execution_count": 20,
   "id": "6f036ea6",
   "metadata": {},
   "outputs": [],
   "source": [
    "param_grid=[{'max_iter': range(1,100,10),'solver': ['liblinear','sage','newton-cg','sag','lbfgs']}]"
   ]
  },
  {
   "cell_type": "markdown",
   "id": "99fd83cd",
   "metadata": {},
   "source": [
    "### 'param_grid' is a list containing a dictionary. The dictionary specifies the hyperparameters to be tuned and their respective values.\n",
    "### 'max_iter': range(1, 100, 10) specifies a range of values for the max_iter hyperparameter. The range starts from 1, increments by 10, and stops at 100. This will be used to explore different values for the maximum number of iterations during model training.\n",
    "### 'solver': ['liblinear','sage','newton-cg','sag','lbfgs'] specifies a list of solvers to be used for the logistic regression model. The solvers are algorithms used to optimize the model's objective function. The listed solvers are 'liblinear', 'sag', 'newton-cg', 'sag', and 'lbfgs'.\n",
    "### The parameter grid is typically used in combination with techniques like grid search or random search to systematically explore different combinations of hyperparameter values and find the optimal set of hyperparameters for the logistic regression model."
   ]
  },
  {
   "cell_type": "code",
   "execution_count": 21,
   "id": "f23a7b7d",
   "metadata": {},
   "outputs": [
    {
     "name": "stdout",
     "output_type": "stream",
     "text": [
      "----------------------------------------\n",
      "{'max_iter': 71, 'solver': 'newton-cg'}\n",
      "----------------------------------------\n",
      "0.8083333333333332\n"
     ]
    }
   ],
   "source": [
    "tuning= GridSearchCV(estimator =LogisticRegression(),param_grid=param_grid,cv=None,scoring=None,n_jobs=None)\n",
    "tuning.fit(x_train,y_train)\n",
    "print(\"-\"*40)\n",
    "print(tuning.best_params_)\n",
    "print(\"-\"*40)\n",
    "print(tuning.best_score_)"
   ]
  },
  {
   "cell_type": "markdown",
   "id": "8a4f9a2f",
   "metadata": {},
   "source": [
    "### Executing this code will perform the grid search with cross-validation and provide the best hyperparameters and the corresponding best score achieved during the search."
   ]
  },
  {
   "cell_type": "code",
   "execution_count": 22,
   "id": "00016c23",
   "metadata": {},
   "outputs": [],
   "source": [
    "model=LogisticRegression(max_iter=12,solver='newton-cg',random_state=42)\n",
    "model.fit(x_train,y_train)\n",
    "y_pred = model.predict(x_test)"
   ]
  },
  {
   "cell_type": "markdown",
   "id": "e3b24fa7",
   "metadata": {},
   "source": [
    "### Executing this code will train the logistic regression model, make predictions on the test data, and store the predicted labels in the y_pred variable."
   ]
  },
  {
   "cell_type": "code",
   "execution_count": 23,
   "id": "011dccb9",
   "metadata": {},
   "outputs": [
    {
     "name": "stdout",
     "output_type": "stream",
     "text": [
      "[0.69047619 0.73809524 0.76190476 0.75       0.73809524 0.76190476\n",
      " 0.73809524 0.69047619 0.72619048 0.71428571]\n"
     ]
    }
   ],
   "source": [
    "score=cross_val_score(model,x_train,y_train,cv=10)\n",
    "print(score)"
   ]
  },
  {
   "cell_type": "code",
   "execution_count": 24,
   "id": "c6ea00b4",
   "metadata": {},
   "outputs": [
    {
     "name": "stdout",
     "output_type": "stream",
     "text": [
      "Max Accuracy : 76.19 %\n",
      "----------------------------------------\n",
      "Avg Accuracy : 73.1 %\n",
      "----------------------------------------\n",
      "Avg Deviaton : 2.45 %\n"
     ]
    }
   ],
   "source": [
    "print('Max Accuracy :',round(max(score)*100,2),'%')\n",
    "print(\"-\"*40)\n",
    "print('Avg Accuracy :',round(score.mean()*100,2),'%')\n",
    "print(\"-\"*40)\n",
    "print('Avg Deviaton :',round(score.std()*100,2),'%')"
   ]
  },
  {
   "cell_type": "markdown",
   "id": "89104063",
   "metadata": {},
   "source": [
    "### In Logistic Regression's accuracy score measures the percentage of correct classifications, making it a common metric for binary classification tasks."
   ]
  },
  {
   "cell_type": "code",
   "execution_count": 25,
   "id": "df6078af",
   "metadata": {},
   "outputs": [
    {
     "name": "stdout",
     "output_type": "stream",
     "text": [
      "[[  5  43   1]\n",
      " [  1 263   4]\n",
      " [  0  38   5]]\n",
      "----------------------------------------\n",
      "              precision    recall  f1-score   support\n",
      "\n",
      "           2       0.83      0.10      0.18        49\n",
      "           3       0.76      0.98      0.86       268\n",
      "           4       0.50      0.12      0.19        43\n",
      "\n",
      "    accuracy                           0.76       360\n",
      "   macro avg       0.70      0.40      0.41       360\n",
      "weighted avg       0.74      0.76      0.69       360\n",
      "\n"
     ]
    }
   ],
   "source": [
    "print(confusion_matrix (y_test,y_pred))\n",
    "print(\"-\"*40)\n",
    "print(classification_report(y_test,y_pred))"
   ]
  },
  {
   "cell_type": "code",
   "execution_count": 26,
   "id": "3085e803",
   "metadata": {},
   "outputs": [
    {
     "name": "stdout",
     "output_type": "stream",
     "text": [
      "MSE =  0.25\n",
      "----------------------------------------\n",
      "RMSE =  0.5\n"
     ]
    }
   ],
   "source": [
    "mse_lr=mean_squared_error(y_test,y_pred)\n",
    "rmse_lr=np.sqrt(mse_lr)\n",
    "print('MSE = ',mse_lr)\n",
    "print(\"-\"*40)\n",
    "print('RMSE = ',rmse_lr)"
   ]
  },
  {
   "cell_type": "markdown",
   "id": "28d89991",
   "metadata": {},
   "source": [
    "### The lower the MSE, the better the model's predictions align with the actual target values, indicating better performance."
   ]
  },
  {
   "cell_type": "markdown",
   "id": "acebd092",
   "metadata": {},
   "source": [
    "## 3). SUPPORT VECTOR CLASSIFIER :-"
   ]
  },
  {
   "cell_type": "markdown",
   "id": "4d1dfed9",
   "metadata": {},
   "source": [
    "### The Support Vector Classifier (SVC) is a supervised machine learning algorithm used for classification. It identifies a hyperplane that best separates data into distinct classes, aiming to maximize the margin between them while minimizing classification errors, using support vectors."
   ]
  },
  {
   "cell_type": "code",
   "execution_count": 27,
   "id": "5785f2b4",
   "metadata": {},
   "outputs": [],
   "source": [
    "model_sv = SVC(kernel='rbf')"
   ]
  },
  {
   "cell_type": "code",
   "execution_count": 28,
   "id": "ab7a566b",
   "metadata": {},
   "outputs": [
    {
     "data": {
      "text/html": [
       "<style>#sk-container-id-1 {color: black;}#sk-container-id-1 pre{padding: 0;}#sk-container-id-1 div.sk-toggleable {background-color: white;}#sk-container-id-1 label.sk-toggleable__label {cursor: pointer;display: block;width: 100%;margin-bottom: 0;padding: 0.3em;box-sizing: border-box;text-align: center;}#sk-container-id-1 label.sk-toggleable__label-arrow:before {content: \"▸\";float: left;margin-right: 0.25em;color: #696969;}#sk-container-id-1 label.sk-toggleable__label-arrow:hover:before {color: black;}#sk-container-id-1 div.sk-estimator:hover label.sk-toggleable__label-arrow:before {color: black;}#sk-container-id-1 div.sk-toggleable__content {max-height: 0;max-width: 0;overflow: hidden;text-align: left;background-color: #f0f8ff;}#sk-container-id-1 div.sk-toggleable__content pre {margin: 0.2em;color: black;border-radius: 0.25em;background-color: #f0f8ff;}#sk-container-id-1 input.sk-toggleable__control:checked~div.sk-toggleable__content {max-height: 200px;max-width: 100%;overflow: auto;}#sk-container-id-1 input.sk-toggleable__control:checked~label.sk-toggleable__label-arrow:before {content: \"▾\";}#sk-container-id-1 div.sk-estimator input.sk-toggleable__control:checked~label.sk-toggleable__label {background-color: #d4ebff;}#sk-container-id-1 div.sk-label input.sk-toggleable__control:checked~label.sk-toggleable__label {background-color: #d4ebff;}#sk-container-id-1 input.sk-hidden--visually {border: 0;clip: rect(1px 1px 1px 1px);clip: rect(1px, 1px, 1px, 1px);height: 1px;margin: -1px;overflow: hidden;padding: 0;position: absolute;width: 1px;}#sk-container-id-1 div.sk-estimator {font-family: monospace;background-color: #f0f8ff;border: 1px dotted black;border-radius: 0.25em;box-sizing: border-box;margin-bottom: 0.5em;}#sk-container-id-1 div.sk-estimator:hover {background-color: #d4ebff;}#sk-container-id-1 div.sk-parallel-item::after {content: \"\";width: 100%;border-bottom: 1px solid gray;flex-grow: 1;}#sk-container-id-1 div.sk-label:hover label.sk-toggleable__label {background-color: #d4ebff;}#sk-container-id-1 div.sk-serial::before {content: \"\";position: absolute;border-left: 1px solid gray;box-sizing: border-box;top: 0;bottom: 0;left: 50%;z-index: 0;}#sk-container-id-1 div.sk-serial {display: flex;flex-direction: column;align-items: center;background-color: white;padding-right: 0.2em;padding-left: 0.2em;position: relative;}#sk-container-id-1 div.sk-item {position: relative;z-index: 1;}#sk-container-id-1 div.sk-parallel {display: flex;align-items: stretch;justify-content: center;background-color: white;position: relative;}#sk-container-id-1 div.sk-item::before, #sk-container-id-1 div.sk-parallel-item::before {content: \"\";position: absolute;border-left: 1px solid gray;box-sizing: border-box;top: 0;bottom: 0;left: 50%;z-index: -1;}#sk-container-id-1 div.sk-parallel-item {display: flex;flex-direction: column;z-index: 1;position: relative;background-color: white;}#sk-container-id-1 div.sk-parallel-item:first-child::after {align-self: flex-end;width: 50%;}#sk-container-id-1 div.sk-parallel-item:last-child::after {align-self: flex-start;width: 50%;}#sk-container-id-1 div.sk-parallel-item:only-child::after {width: 0;}#sk-container-id-1 div.sk-dashed-wrapped {border: 1px dashed gray;margin: 0 0.4em 0.5em 0.4em;box-sizing: border-box;padding-bottom: 0.4em;background-color: white;}#sk-container-id-1 div.sk-label label {font-family: monospace;font-weight: bold;display: inline-block;line-height: 1.2em;}#sk-container-id-1 div.sk-label-container {text-align: center;}#sk-container-id-1 div.sk-container {/* jupyter's `normalize.less` sets `[hidden] { display: none; }` but bootstrap.min.css set `[hidden] { display: none !important; }` so we also need the `!important` here to be able to override the default hidden behavior on the sphinx rendered scikit-learn.org. See: https://github.com/scikit-learn/scikit-learn/issues/21755 */display: inline-block !important;position: relative;}#sk-container-id-1 div.sk-text-repr-fallback {display: none;}</style><div id=\"sk-container-id-1\" class=\"sk-top-container\"><div class=\"sk-text-repr-fallback\"><pre>SVC()</pre><b>In a Jupyter environment, please rerun this cell to show the HTML representation or trust the notebook. <br />On GitHub, the HTML representation is unable to render, please try loading this page with nbviewer.org.</b></div><div class=\"sk-container\" hidden><div class=\"sk-item\"><div class=\"sk-estimator sk-toggleable\"><input class=\"sk-toggleable__control sk-hidden--visually\" id=\"sk-estimator-id-1\" type=\"checkbox\" checked><label for=\"sk-estimator-id-1\" class=\"sk-toggleable__label sk-toggleable__label-arrow\">SVC</label><div class=\"sk-toggleable__content\"><pre>SVC()</pre></div></div></div></div></div>"
      ],
      "text/plain": [
       "SVC()"
      ]
     },
     "execution_count": 28,
     "metadata": {},
     "output_type": "execute_result"
    }
   ],
   "source": [
    "model_sv.fit(x_train,y_train)"
   ]
  },
  {
   "cell_type": "code",
   "execution_count": 29,
   "id": "e060c6ca",
   "metadata": {},
   "outputs": [],
   "source": [
    "y_predict_sv = model_sv.predict(x_test)"
   ]
  },
  {
   "cell_type": "code",
   "execution_count": 30,
   "id": "f6cfa56c",
   "metadata": {},
   "outputs": [
    {
     "name": "stdout",
     "output_type": "stream",
     "text": [
      "[0.72619048 0.72619048 0.72619048 0.72619048 0.72619048 0.72619048\n",
      " 0.71428571 0.71428571 0.71428571 0.71428571]\n"
     ]
    }
   ],
   "source": [
    "score=cross_val_score(model_sv,x_train,y_train,cv=10)\n",
    "print(score)"
   ]
  },
  {
   "cell_type": "markdown",
   "id": "4f58b0b4",
   "metadata": {},
   "source": [
    "### The 'cross_val_score' function splits the training data into 'cv' number of folds, trains the model on 'cv=10' folds, and evaluates the performance on the remaining fold. This process is repeated 'cv' times, each time using a different fold as the validation set. The resulting scores are then stored in the 'score' variable.\n",
    "### Printing the score will show the array of cross-validation scores, which provides an estimate of the model's performance on unseen data."
   ]
  },
  {
   "cell_type": "code",
   "execution_count": 31,
   "id": "48b4d4fa",
   "metadata": {},
   "outputs": [
    {
     "name": "stdout",
     "output_type": "stream",
     "text": [
      "Max Accuracy : 72.62 %\n",
      "----------------------------------------\n",
      "Avg Accuracy : 72.14 %\n",
      "----------------------------------------\n",
      "Avg Deviaton : 0.58 %\n"
     ]
    }
   ],
   "source": [
    "print('Max Accuracy :',round(max(score)*100,2),'%')\n",
    "print(\"-\"*40)\n",
    "print('Avg Accuracy :',round(score.mean()*100,2),'%')\n",
    "print(\"-\"*40)\n",
    "print('Avg Deviaton :',round(score.std()*100,2),'%')"
   ]
  },
  {
   "cell_type": "markdown",
   "id": "72ab180f",
   "metadata": {},
   "source": [
    "### Executing this code will print the maximum accuracy, average accuracy, and average deviation of the cross-validation scores. These metrics provide insights into the performance and consistency of the trained model."
   ]
  },
  {
   "cell_type": "code",
   "execution_count": 32,
   "id": "48801835",
   "metadata": {},
   "outputs": [
    {
     "name": "stdout",
     "output_type": "stream",
     "text": [
      "[[  0  49   0]\n",
      " [  0 268   0]\n",
      " [  0  43   0]]\n",
      "----------------------------------------\n",
      "              precision    recall  f1-score   support\n",
      "\n",
      "           2       0.00      0.00      0.00        49\n",
      "           3       0.74      1.00      0.85       268\n",
      "           4       0.00      0.00      0.00        43\n",
      "\n",
      "    accuracy                           0.74       360\n",
      "   macro avg       0.25      0.33      0.28       360\n",
      "weighted avg       0.55      0.74      0.64       360\n",
      "\n"
     ]
    }
   ],
   "source": [
    "print(confusion_matrix (y_test,y_predict_sv))\n",
    "print(\"-\"*40)\n",
    "print(classification_report(y_test,y_predict_sv))"
   ]
  },
  {
   "cell_type": "code",
   "execution_count": 33,
   "id": "e2ed04b0",
   "metadata": {},
   "outputs": [
    {
     "name": "stdout",
     "output_type": "stream",
     "text": [
      "MSE =  0.25555555555555554\n",
      "----------------------------------------\n",
      "RMSE =  0.5055250296034367\n"
     ]
    }
   ],
   "source": [
    "mse_sv=mean_squared_error(y_test,y_predict_sv)\n",
    "rmse_sv=np.sqrt(mse_sv)\n",
    "print('MSE = ',mse_sv)\n",
    "print(\"-\"*40)\n",
    "print('RMSE = ',rmse_sv)"
   ]
  },
  {
   "cell_type": "markdown",
   "id": "a17f3e90",
   "metadata": {},
   "source": [
    "### Executing this code will display the calculated MSE and RMSE, which are common metrics used to evaluate the performance of regression models. Lower values of MSE and RMSE indicate better model performance, with RMSE providing a more interpretable metric as it is in the same units as the target variable."
   ]
  },
  {
   "cell_type": "markdown",
   "id": "fc4aecb1",
   "metadata": {},
   "source": [
    "## 4). DECISION TREE CLASSIFIER :-"
   ]
  },
  {
   "cell_type": "markdown",
   "id": "fd03bc00",
   "metadata": {},
   "source": [
    "### A Decision Tree in machine learning is a hierarchical tree-like structure used for classification and regression. It makes decisions by recursively splitting data into subsets based on feature values, with each leaf node representing a prediction or decision outcome.\n",
    "### Or in other words, Decision Tree works by making decisions at each node based on specific features' values, effectively segmenting the data into different regions. The target variable's prediction for a new data point is determined by the mean (or median) value of the training samples within the same leaf node to which the data point belongs.The random_state=0 parameter sets the random state to 0, which ensures that the same random sequence is used each time you run the code. This ensures reproducibility of the results."
   ]
  },
  {
   "cell_type": "code",
   "execution_count": 34,
   "id": "fdd98ad3",
   "metadata": {},
   "outputs": [],
   "source": [
    "model_dt = DecisionTreeClassifier(random_state=0)"
   ]
  },
  {
   "cell_type": "code",
   "execution_count": 35,
   "id": "8ad585d2",
   "metadata": {},
   "outputs": [
    {
     "data": {
      "text/html": [
       "<style>#sk-container-id-2 {color: black;}#sk-container-id-2 pre{padding: 0;}#sk-container-id-2 div.sk-toggleable {background-color: white;}#sk-container-id-2 label.sk-toggleable__label {cursor: pointer;display: block;width: 100%;margin-bottom: 0;padding: 0.3em;box-sizing: border-box;text-align: center;}#sk-container-id-2 label.sk-toggleable__label-arrow:before {content: \"▸\";float: left;margin-right: 0.25em;color: #696969;}#sk-container-id-2 label.sk-toggleable__label-arrow:hover:before {color: black;}#sk-container-id-2 div.sk-estimator:hover label.sk-toggleable__label-arrow:before {color: black;}#sk-container-id-2 div.sk-toggleable__content {max-height: 0;max-width: 0;overflow: hidden;text-align: left;background-color: #f0f8ff;}#sk-container-id-2 div.sk-toggleable__content pre {margin: 0.2em;color: black;border-radius: 0.25em;background-color: #f0f8ff;}#sk-container-id-2 input.sk-toggleable__control:checked~div.sk-toggleable__content {max-height: 200px;max-width: 100%;overflow: auto;}#sk-container-id-2 input.sk-toggleable__control:checked~label.sk-toggleable__label-arrow:before {content: \"▾\";}#sk-container-id-2 div.sk-estimator input.sk-toggleable__control:checked~label.sk-toggleable__label {background-color: #d4ebff;}#sk-container-id-2 div.sk-label input.sk-toggleable__control:checked~label.sk-toggleable__label {background-color: #d4ebff;}#sk-container-id-2 input.sk-hidden--visually {border: 0;clip: rect(1px 1px 1px 1px);clip: rect(1px, 1px, 1px, 1px);height: 1px;margin: -1px;overflow: hidden;padding: 0;position: absolute;width: 1px;}#sk-container-id-2 div.sk-estimator {font-family: monospace;background-color: #f0f8ff;border: 1px dotted black;border-radius: 0.25em;box-sizing: border-box;margin-bottom: 0.5em;}#sk-container-id-2 div.sk-estimator:hover {background-color: #d4ebff;}#sk-container-id-2 div.sk-parallel-item::after {content: \"\";width: 100%;border-bottom: 1px solid gray;flex-grow: 1;}#sk-container-id-2 div.sk-label:hover label.sk-toggleable__label {background-color: #d4ebff;}#sk-container-id-2 div.sk-serial::before {content: \"\";position: absolute;border-left: 1px solid gray;box-sizing: border-box;top: 0;bottom: 0;left: 50%;z-index: 0;}#sk-container-id-2 div.sk-serial {display: flex;flex-direction: column;align-items: center;background-color: white;padding-right: 0.2em;padding-left: 0.2em;position: relative;}#sk-container-id-2 div.sk-item {position: relative;z-index: 1;}#sk-container-id-2 div.sk-parallel {display: flex;align-items: stretch;justify-content: center;background-color: white;position: relative;}#sk-container-id-2 div.sk-item::before, #sk-container-id-2 div.sk-parallel-item::before {content: \"\";position: absolute;border-left: 1px solid gray;box-sizing: border-box;top: 0;bottom: 0;left: 50%;z-index: -1;}#sk-container-id-2 div.sk-parallel-item {display: flex;flex-direction: column;z-index: 1;position: relative;background-color: white;}#sk-container-id-2 div.sk-parallel-item:first-child::after {align-self: flex-end;width: 50%;}#sk-container-id-2 div.sk-parallel-item:last-child::after {align-self: flex-start;width: 50%;}#sk-container-id-2 div.sk-parallel-item:only-child::after {width: 0;}#sk-container-id-2 div.sk-dashed-wrapped {border: 1px dashed gray;margin: 0 0.4em 0.5em 0.4em;box-sizing: border-box;padding-bottom: 0.4em;background-color: white;}#sk-container-id-2 div.sk-label label {font-family: monospace;font-weight: bold;display: inline-block;line-height: 1.2em;}#sk-container-id-2 div.sk-label-container {text-align: center;}#sk-container-id-2 div.sk-container {/* jupyter's `normalize.less` sets `[hidden] { display: none; }` but bootstrap.min.css set `[hidden] { display: none !important; }` so we also need the `!important` here to be able to override the default hidden behavior on the sphinx rendered scikit-learn.org. See: https://github.com/scikit-learn/scikit-learn/issues/21755 */display: inline-block !important;position: relative;}#sk-container-id-2 div.sk-text-repr-fallback {display: none;}</style><div id=\"sk-container-id-2\" class=\"sk-top-container\"><div class=\"sk-text-repr-fallback\"><pre>DecisionTreeClassifier(random_state=0)</pre><b>In a Jupyter environment, please rerun this cell to show the HTML representation or trust the notebook. <br />On GitHub, the HTML representation is unable to render, please try loading this page with nbviewer.org.</b></div><div class=\"sk-container\" hidden><div class=\"sk-item\"><div class=\"sk-estimator sk-toggleable\"><input class=\"sk-toggleable__control sk-hidden--visually\" id=\"sk-estimator-id-2\" type=\"checkbox\" checked><label for=\"sk-estimator-id-2\" class=\"sk-toggleable__label sk-toggleable__label-arrow\">DecisionTreeClassifier</label><div class=\"sk-toggleable__content\"><pre>DecisionTreeClassifier(random_state=0)</pre></div></div></div></div></div>"
      ],
      "text/plain": [
       "DecisionTreeClassifier(random_state=0)"
      ]
     },
     "execution_count": 35,
     "metadata": {},
     "output_type": "execute_result"
    }
   ],
   "source": [
    "model_dt.fit(x_train,y_train)"
   ]
  },
  {
   "cell_type": "code",
   "execution_count": 36,
   "id": "01081eaf",
   "metadata": {},
   "outputs": [],
   "source": [
    "y_predict_dt = model_dt.predict(x_test)"
   ]
  },
  {
   "cell_type": "code",
   "execution_count": 37,
   "id": "0e91008c",
   "metadata": {},
   "outputs": [
    {
     "name": "stdout",
     "output_type": "stream",
     "text": [
      "[0.72619048 0.72619048 0.72619048 0.72619048 0.72619048 0.72619048\n",
      " 0.71428571 0.71428571 0.71428571 0.71428571]\n"
     ]
    }
   ],
   "source": [
    "score=cross_val_score(model_sv,x_train,y_train,cv=10)\n",
    "print(score)"
   ]
  },
  {
   "cell_type": "markdown",
   "id": "76f241de",
   "metadata": {},
   "source": [
    "### It is used to perform cross-validation, which is a technique for evaluating the model's performance by splitting the data into multiple subsets (folds) and training/evaluating the model on different combinations of these subsets.\n",
    "### 'cv=10': This parameter specifies the number of folds in the cross-validation process. In this case, cv=10 means that the data will be divided into 10 folds, and the model will be trained and evaluated 10 times, each time using a different fold as the test set and the rest as the training set.\n",
    "### After executing the code, the scores variable will contain an array of evaluation scores, with one score for each fold. These scores represent the model's performance on each fold during cross-validation.\n",
    "### Cross-validation helps provide a more reliable estimate of the model's performance and generalization ability on unseen data."
   ]
  },
  {
   "cell_type": "code",
   "execution_count": 38,
   "id": "f943a4b9",
   "metadata": {},
   "outputs": [
    {
     "name": "stdout",
     "output_type": "stream",
     "text": [
      "Max Accuracy : 72.62 %\n",
      "----------------------------------------\n",
      "Avg Accuracy : 72.14 %\n",
      "----------------------------------------\n",
      "Avg Deviaton : 0.58 %\n"
     ]
    }
   ],
   "source": [
    "print('Max Accuracy :',round(max(score)*100,2),'%')\n",
    "print(\"-\"*40)\n",
    "print('Avg Accuracy :',round(score.mean()*100,2),'%')\n",
    "print(\"-\"*40)\n",
    "print('Avg Deviaton :',round(score.std()*100,2),'%')"
   ]
  },
  {
   "cell_type": "markdown",
   "id": "4a61ee1c",
   "metadata": {},
   "source": [
    "### Executing this code will print the maximum accuracy, average accuracy, and average deviation of the cross-validation scores. These metrics provide insights into the performance and consistency of the trained model."
   ]
  },
  {
   "cell_type": "code",
   "execution_count": 39,
   "id": "2fed0ead",
   "metadata": {},
   "outputs": [
    {
     "name": "stdout",
     "output_type": "stream",
     "text": [
      "[[ 41   8   0]\n",
      " [ 12 244  12]\n",
      " [  3   8  32]]\n",
      "----------------------------------------\n",
      "              precision    recall  f1-score   support\n",
      "\n",
      "           2       0.73      0.84      0.78        49\n",
      "           3       0.94      0.91      0.92       268\n",
      "           4       0.73      0.74      0.74        43\n",
      "\n",
      "    accuracy                           0.88       360\n",
      "   macro avg       0.80      0.83      0.81       360\n",
      "weighted avg       0.89      0.88      0.88       360\n",
      "\n"
     ]
    }
   ],
   "source": [
    "print(confusion_matrix (y_test,y_predict_dt))\n",
    "print(\"-\"*40)\n",
    "print(classification_report(y_test,y_predict_dt))"
   ]
  },
  {
   "cell_type": "markdown",
   "id": "d1c9b28c",
   "metadata": {},
   "source": [
    "### Executing this code will display the confusion matrix and classification report, which provide insights into the performance of the trained model, including accuracy and other evaluation metrics such as precision, recall, and F1-score.\n",
    "### A Confusion matrix in machine learning is a table that summarizes the performance of a classification model. It shows the counts of true positive, true negative, false positive, and false negative predictions, aiding in model evaluation and error analysis.\n",
    "### Precision in a confusion matrix is the ratio of true positive predictions to the total positive predictions. It measures the model's accuracy when it predicts positive outcomes.\n",
    "### Recall, a metric in a confusion matrix, measures the proportion of actual positive cases correctly identified by a model. It helps assess a model's ability to find all relevant instances.\n",
    "### F1_score is a single metric derived from a confusion matrix, balancing precision and recall. It provides a measure of a model's accuracy by considering both false positives and false negatives."
   ]
  },
  {
   "cell_type": "code",
   "execution_count": 40,
   "id": "cfd55189",
   "metadata": {},
   "outputs": [
    {
     "name": "stdout",
     "output_type": "stream",
     "text": [
      "MSE =  0.14444444444444443\n",
      "----------------------------------------\n",
      "RMSE =  0.38005847503304596\n"
     ]
    }
   ],
   "source": [
    "mse_dt=mean_squared_error(y_test,y_predict_dt)\n",
    "rmse_dt=np.sqrt(mse_dt)\n",
    "print('MSE = ',mse_dt)\n",
    "print(\"-\"*40)\n",
    "print('RMSE = ',rmse_dt)"
   ]
  },
  {
   "cell_type": "markdown",
   "id": "9b29720c",
   "metadata": {},
   "source": [
    "### Executing this code will display the calculated MSE and RMSE, which are common metrics used to evaluate the performance of regression models. Lower values of MSE and RMSE indicate better model performance, with RMSE providing a more interpretable metric as it is in the same units as the target variable."
   ]
  },
  {
   "cell_type": "markdown",
   "id": "0faee4a0",
   "metadata": {},
   "source": [
    "# MODEL EVALUATIONS :-"
   ]
  },
  {
   "cell_type": "code",
   "execution_count": 41,
   "id": "6d2b5633",
   "metadata": {},
   "outputs": [],
   "source": [
    "MSE = [mse_rf,mse_lr,mse_sv,mse_dt]\n",
    "RMSE = [rmse_rf,rmse_lr,rmse_sv,rmse_dt]\n",
    "Models = [\"Random Forest\",\"Logistic Regression\",\"Support Vector Machine\",\"Decision Tree\"]"
   ]
  },
  {
   "cell_type": "code",
   "execution_count": 42,
   "id": "5188bf47",
   "metadata": {},
   "outputs": [
    {
     "data": {
      "image/png": "[encoded data removed]",
      "text/plain": [
       "<Figure size 640x480 with 1 Axes>"
      ]
     },
     "metadata": {},
     "output_type": "display_data"
    }
   ],
   "source": [
    "import seaborn as sns\n",
    "sns.barplot(x=MSE, y=Models)\n",
    "plt.xlabel('Mean Squared Error (MSE)')\n",
    "plt.ylabel('Models')\n",
    "plt.title('MSE Comparison of Different Models')\n",
    "plt.show()"
   ]
  },
  {
   "cell_type": "code",
   "execution_count": 43,
   "id": "41eef585",
   "metadata": {},
   "outputs": [
    {
     "data": {
      "image/png": "[encoded data removed]",
      "text/plain": [
       "<Figure size 640x480 with 1 Axes>"
      ]
     },
     "metadata": {},
     "output_type": "display_data"
    }
   ],
   "source": [
    "import seaborn as sns\n",
    "sns.barplot(x=RMSE, y=Models)\n",
    "plt.xlabel('Root Mean Squared Error (RMSE)')\n",
    "plt.ylabel('Models')\n",
    "plt.title('RMSE Comparison of Different Models')\n",
    "plt.show()"
   ]
  },
  {
   "cell_type": "markdown",
   "id": "f05c2f07",
   "metadata": {},
   "source": [
    "## CONCLUSION :- "
   ]
  },
  {
   "cell_type": "markdown",
   "id": "6e8088e8",
   "metadata": {},
   "source": [
    "### By observing the results, I came to a conclusion that Random Forest Classifier gives better accuracy score as compare to other model i,e. 97.62% which is far better than others algorithms. And its mean squared error is 0.069  which is very less because less error means its a generlized working model."
   ]
  },
  {
   "cell_type": "code",
   "execution_count": null,
   "id": "f0235b8c",
   "metadata": {},
   "outputs": [],
   "source": []
  }
 ],
 "metadata": {
  "kernelspec": {
   "display_name": "Python 3 (ipykernel)",
   "language": "python",
   "name": "python3"
  },
  "language_info": {
   "codemirror_mode": {
    "name": "ipython",
    "version": 3
   },
   "file_extension": ".py",
   "mimetype": "text/x-python",
   "name": "python",
   "nbconvert_exporter": "python",
   "pygments_lexer": "ipython3",
   "version": "3.11.5"
  }
 },
 "nbformat": 4,
 "nbformat_minor": 5
}
